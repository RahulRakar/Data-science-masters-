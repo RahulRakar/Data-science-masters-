{
 "cells": [
  {
   "cell_type": "code",
   "execution_count": 1,
   "id": "88d3d7f7-347b-479d-89d9-2378a890b1ac",
   "metadata": {},
   "outputs": [],
   "source": [
    "a=10\n"
   ]
  },
  {
   "cell_type": "code",
   "execution_count": 2,
   "id": "5b0dbeb3-805f-469f-9e36-a1969723dd0d",
   "metadata": {},
   "outputs": [],
   "source": [
    "a=\"a\""
   ]
  },
  {
   "cell_type": "code",
   "execution_count": 3,
   "id": "bd69805b-0fc3-417e-b664-09b3ddb5330d",
   "metadata": {},
   "outputs": [],
   "source": [
    "a='c'\n"
   ]
  },
  {
   "cell_type": "code",
   "execution_count": 4,
   "id": "b6b5ef4c-13a5-44df-9d62-7c269a19d9ea",
   "metadata": {},
   "outputs": [
    {
     "data": {
      "text/plain": [
       "'c'"
      ]
     },
     "execution_count": 4,
     "metadata": {},
     "output_type": "execute_result"
    }
   ],
   "source": [
    "a"
   ]
  },
  {
   "cell_type": "code",
   "execution_count": 5,
   "id": "bbc80121-7470-432f-b635-31538b17d0b2",
   "metadata": {},
   "outputs": [],
   "source": [
    "a=10"
   ]
  },
  {
   "cell_type": "code",
   "execution_count": 6,
   "id": "0710c5f5-89c1-4d91-ab2e-0fface622de3",
   "metadata": {},
   "outputs": [
    {
     "data": {
      "text/plain": [
       "10"
      ]
     },
     "execution_count": 6,
     "metadata": {},
     "output_type": "execute_result"
    }
   ],
   "source": [
    "a\n"
   ]
  },
  {
   "cell_type": "code",
   "execution_count": 7,
   "id": "619a3905-ec92-4dac-b5ee-1f42846195c9",
   "metadata": {},
   "outputs": [
    {
     "data": {
      "text/plain": [
       "int"
      ]
     },
     "execution_count": 7,
     "metadata": {},
     "output_type": "execute_result"
    }
   ],
   "source": [
    "type(a)"
   ]
  },
  {
   "cell_type": "code",
   "execution_count": 8,
   "id": "45089d77-a924-426c-ba66-14f5b85fd4fa",
   "metadata": {},
   "outputs": [
    {
     "data": {
      "text/plain": [
       "10"
      ]
     },
     "execution_count": 8,
     "metadata": {},
     "output_type": "execute_result"
    }
   ],
   "source": [
    "int(a)"
   ]
  },
  {
   "cell_type": "code",
   "execution_count": 18,
   "id": "052a0796-208d-4c2f-8251-bb1108e2b3eb",
   "metadata": {},
   "outputs": [
    {
     "data": {
      "text/plain": [
       "1"
      ]
     },
     "execution_count": 18,
     "metadata": {},
     "output_type": "execute_result"
    }
   ],
   "source": [
    "int('1')"
   ]
  },
  {
   "cell_type": "code",
   "execution_count": 16,
   "id": "3b93f2c9-b578-4b31-8a38-93a12dd04bb8",
   "metadata": {},
   "outputs": [
    {
     "name": "stdout",
     "output_type": "stream",
     "text": [
      "\n"
     ]
    }
   ],
   "source": [
    "print()"
   ]
  },
  {
   "cell_type": "code",
   "execution_count": 14,
   "id": "c4a1623c-18bf-49ee-a5c5-cd9805e509e4",
   "metadata": {},
   "outputs": [
    {
     "name": "stdout",
     "output_type": "stream",
     "text": [
      "Hello World\n"
     ]
    }
   ],
   "source": [
    "print('Hello World')\n"
   ]
  },
  {
   "cell_type": "code",
   "execution_count": 15,
   "id": "7e23d21f-c6f3-4b3f-b037-995dd87c8520",
   "metadata": {},
   "outputs": [
    {
     "name": "stdout",
     "output_type": "stream",
     "text": [
      "hello\n"
     ]
    }
   ],
   "source": [
    "print(\"hello\")"
   ]
  },
  {
   "cell_type": "code",
   "execution_count": 15,
   "id": "4ae0c46f-7ab1-40e8-9430-e4674831b21c",
   "metadata": {},
   "outputs": [
    {
     "name": "stdout",
     "output_type": "stream",
     "text": [
      "Hello World\n"
     ]
    }
   ],
   "source": [
    "print(\"Hello World\")"
   ]
  },
  {
   "cell_type": "code",
   "execution_count": 16,
   "id": "dfc8638d-3bee-46cb-832e-eb75f614c6aa",
   "metadata": {},
   "outputs": [
    {
     "name": "stdout",
     "output_type": "stream",
     "text": [
      "123\n"
     ]
    }
   ],
   "source": [
    "print('123')\n"
   ]
  },
  {
   "cell_type": "code",
   "execution_count": 17,
   "id": "f042bd5b-94db-44bc-be09-035e044939e0",
   "metadata": {},
   "outputs": [],
   "source": [
    "age=28\n"
   ]
  },
  {
   "cell_type": "code",
   "execution_count": 21,
   "id": "9c56214f-f781-4ee0-a60b-2ebeb4d363c1",
   "metadata": {},
   "outputs": [
    {
     "name": "stdout",
     "output_type": "stream",
     "text": [
      "My age is : 28\n"
     ]
    }
   ],
   "source": [
    "print(\"My age is :\",age)"
   ]
  },
  {
   "cell_type": "code",
   "execution_count": 20,
   "id": "cfe7cb7c-6a89-4ac2-bb4d-915908c45fda",
   "metadata": {},
   "outputs": [
    {
     "name": "stdout",
     "output_type": "stream",
     "text": [
      "my age is: 28\n"
     ]
    }
   ],
   "source": [
    " print(f\"my age is: {age}\")"
   ]
  },
  {
   "cell_type": "code",
   "execution_count": 23,
   "id": "a3329d4b-4b44-4629-967a-4cf10d2ff547",
   "metadata": {},
   "outputs": [],
   "source": [
    "## f is sting\n"
   ]
  },
  {
   "cell_type": "code",
   "execution_count": 24,
   "id": "0eb9671c-4203-43d7-8220-8e03ccfa1af2",
   "metadata": {},
   "outputs": [],
   "source": [
    "## format()"
   ]
  },
  {
   "cell_type": "code",
   "execution_count": 26,
   "id": "7065305f-0e45-4ff0-9e9e-a143376cfc33",
   "metadata": {},
   "outputs": [],
   "source": [
    "Name=\"Krrish\""
   ]
  },
  {
   "cell_type": "code",
   "execution_count": 27,
   "id": "3161bc79-a90a-49ff-ae88-7fc32011a8dd",
   "metadata": {},
   "outputs": [
    {
     "data": {
      "text/plain": [
       "'Krrish'"
      ]
     },
     "execution_count": 27,
     "metadata": {},
     "output_type": "execute_result"
    }
   ],
   "source": [
    "Name\n"
   ]
  },
  {
   "cell_type": "code",
   "execution_count": 28,
   "id": "b5164689-33fd-44e9-ba60-38b8919634b3",
   "metadata": {},
   "outputs": [],
   "source": [
    "Name='Krrish'"
   ]
  },
  {
   "cell_type": "code",
   "execution_count": 29,
   "id": "b5c8f50a-390d-43ac-bfa5-3c94b797e20b",
   "metadata": {},
   "outputs": [
    {
     "data": {
      "text/plain": [
       "'Krrish'"
      ]
     },
     "execution_count": 29,
     "metadata": {},
     "output_type": "execute_result"
    }
   ],
   "source": [
    "Name"
   ]
  },
  {
   "cell_type": "code",
   "execution_count": 30,
   "id": "d6e480a0-282c-4b7f-aa21-df66e8e17f82",
   "metadata": {},
   "outputs": [],
   "source": [
    "age=28"
   ]
  },
  {
   "cell_type": "code",
   "execution_count": 31,
   "id": "de46f1cd-5674-4e15-aa69-0c915f835465",
   "metadata": {},
   "outputs": [
    {
     "name": "stdout",
     "output_type": "stream",
     "text": [
      "My name is :Krrish and age is :28\n"
     ]
    }
   ],
   "source": [
    "print(f\"My name is :{Name} and age is :{age}\")"
   ]
  },
  {
   "cell_type": "code",
   "execution_count": 33,
   "id": "5ae242f7-77ea-469b-aebb-54e4fb9993c1",
   "metadata": {},
   "outputs": [
    {
     "name": "stdout",
     "output_type": "stream",
     "text": [
      "My name is Krrish and age is 28\n"
     ]
    }
   ],
   "source": [
    "print(\"My name is {} and age is {}\".format(Name,age))"
   ]
  },
  {
   "cell_type": "code",
   "execution_count": 35,
   "id": "c037c421-0183-486f-83a7-919b0e45243c",
   "metadata": {},
   "outputs": [
    {
     "name": "stdout",
     "output_type": "stream",
     "text": [
      "My name is 28 and age is Krrish\n"
     ]
    }
   ],
   "source": [
    "print(\"My name is {firstname} and age is {firstage}\".format(firstage=Name,firstname=age))"
   ]
  },
  {
   "cell_type": "code",
   "execution_count": 36,
   "id": "4571f0fe-d602-434b-85db-f750101383e5",
   "metadata": {},
   "outputs": [
    {
     "name": "stdout",
     "output_type": "stream",
     "text": [
      "My name is Krrish and age is 28\n"
     ]
    }
   ],
   "source": [
    "print(\"My name is {firstname} and age is {firstage}\".format(firstname=Name,firstage=age))"
   ]
  },
  {
   "cell_type": "code",
   "execution_count": 46,
   "id": "910b4560-a940-4598-9ec0-349ce2fcf912",
   "metadata": {},
   "outputs": [
    {
     "name": "stdout",
     "output_type": "stream",
     "text": [
      "my name is Krrish and age is 28\n"
     ]
    }
   ],
   "source": [
    "print(\"my name is {} and age is {}\".format(Name,age))"
   ]
  },
  {
   "cell_type": "code",
   "execution_count": 44,
   "id": "d0c277d6-0777-4345-87e5-69546a6b78a8",
   "metadata": {},
   "outputs": [
    {
     "name": "stdout",
     "output_type": "stream",
     "text": [
      "My name is Krrish and age is 28\n"
     ]
    }
   ],
   "source": [
    "print(\"My name is {} and age is {}\".format(Name,age))"
   ]
  },
  {
   "cell_type": "code",
   "execution_count": 47,
   "id": "d0fe92c7-bb1e-40ea-ac8d-c098c536bc24",
   "metadata": {},
   "outputs": [],
   "source": [
    "Name= \"Rahul\"\n",
    "Age=28"
   ]
  },
  {
   "cell_type": "code",
   "execution_count": 48,
   "id": "c14ffb3f-34ec-4430-98e5-14063099d1af",
   "metadata": {},
   "outputs": [],
   "source": [
    "Degree=\"B.sc\""
   ]
  },
  {
   "cell_type": "code",
   "execution_count": 49,
   "id": "884c1b16-1d15-42d1-92a9-41f80fb505df",
   "metadata": {},
   "outputs": [
    {
     "name": "stdout",
     "output_type": "stream",
     "text": [
      "My age is 28 and i have completed :degree of B.SC electronics with the name of Rahul\n"
     ]
    }
   ],
   "source": [
    "print(\"My age is 28 and i have completed :degree of B.SC electronics with the name of Rahul\")"
   ]
  },
  {
   "cell_type": "code",
   "execution_count": 51,
   "id": "68d88e18-26ee-4bab-b76d-fa7445e0c025",
   "metadata": {},
   "outputs": [
    {
     "name": "stdout",
     "output_type": "stream",
     "text": [
      "My age is 28 and i have completed :degree B.sc of B.SC electronics with the name of Rahul\n"
     ]
    }
   ],
   "source": [
    "print(\"My age is {} and i have completed :degree {} of B.SC electronics with the name of {}\".format(Age,Degree,Name))"
   ]
  },
  {
   "cell_type": "code",
   "execution_count": 52,
   "id": "d3003de5-1339-4755-814b-923e1761538d",
   "metadata": {},
   "outputs": [],
   "source": [
    "## Control Flow"
   ]
  },
  {
   "cell_type": "code",
   "execution_count": 53,
   "id": "93c806e6-94a7-4481-8289-23f042398cce",
   "metadata": {},
   "outputs": [],
   "source": [
    "### Decision making statements"
   ]
  },
  {
   "cell_type": "code",
   "execution_count": 54,
   "id": "4fe60710-c68a-47d5-8cd4-bd7678ff2e1e",
   "metadata": {},
   "outputs": [],
   "source": [
    "##1.If\n",
    "##2.if else\n",
    "##3. if elife else"
   ]
  },
  {
   "cell_type": "code",
   "execution_count": 55,
   "id": "2606ae4f-fe49-4d7b-a6b8-29b7e87d67a4",
   "metadata": {},
   "outputs": [],
   "source": [
    "###4 Nested if"
   ]
  },
  {
   "cell_type": "code",
   "execution_count": 56,
   "id": "250a608c-70ec-49bf-9a83-f7ba0a5c1e21",
   "metadata": {},
   "outputs": [],
   "source": [
    "##Single statement suites"
   ]
  },
  {
   "cell_type": "code",
   "execution_count": 57,
   "id": "64151a98-de58-4d44-8d1d-34b58ad9331a",
   "metadata": {},
   "outputs": [],
   "source": [
    "### If Statement"
   ]
  },
  {
   "cell_type": "markdown",
   "id": "edcc062e-8e26-4765-b3e6-2641b02be40a",
   "metadata": {},
   "source": [
    "### Task \n",
    "## Take a input of age \n",
    "## check wether age >=18  and age is <=32\n",
    "## display you are young blood\n"
   ]
  },
  {
   "cell_type": "code",
   "execution_count": 22,
   "id": "3f1a298b-4bea-436d-b442-6a42dfb99a3e",
   "metadata": {},
   "outputs": [
    {
     "name": "stdin",
     "output_type": "stream",
     "text": [
      "Enter your age 47\n"
     ]
    }
   ],
   "source": [
    "age=int(input(\"Enter your age\"))\n",
    "        \n",
    "if age>=18 and age<=45:\n",
    "        print(\" You are a young blood\")"
   ]
  },
  {
   "cell_type": "code",
   "execution_count": 67,
   "id": "fd1310de-4880-4a14-b375-5ffe137fc0a9",
   "metadata": {},
   "outputs": [
    {
     "data": {
      "text/plain": [
       "True"
      ]
     },
     "execution_count": 67,
     "metadata": {},
     "output_type": "execute_result"
    }
   ],
   "source": [
    "22>=18\n"
   ]
  },
  {
   "cell_type": "code",
   "execution_count": 13,
   "id": "4bce2be3-bf10-41dd-9fc6-95456b66de22",
   "metadata": {},
   "outputs": [
    {
     "name": "stdin",
     "output_type": "stream",
     "text": [
      "Enter your age 28\n"
     ]
    },
    {
     "name": "stdout",
     "output_type": "stream",
     "text": [
      " You are a young blood\n"
     ]
    }
   ],
   "source": [
    "age=int(input(\"Enter your age\"))\n",
    "        \n",
    "if age>=18 and age<=45:\n",
    "        print(\" You are a young blood\")\n",
    "else:\n",
    "        print(\"thank you we will let you know\")\n",
    "        "
   ]
  },
  {
   "cell_type": "code",
   "execution_count": 7,
   "id": "c4030cc0-8d9b-4d03-8428-d24f72ef383e",
   "metadata": {},
   "outputs": [
    {
     "name": "stdin",
     "output_type": "stream",
     "text": [
      "Enter your age 46\n"
     ]
    },
    {
     "name": "stdout",
     "output_type": "stream",
     "text": [
      "not Ok\n"
     ]
    }
   ],
   "source": [
    "age=int(input(\"Enter your age\"))\n",
    "if age>=18 and age<=45:\n",
    "         print(\"ok\")\n",
    "else:\n",
    "         print(\"not Ok\")"
   ]
  },
  {
   "cell_type": "code",
   "execution_count": 23,
   "id": "60ab5f21-8516-499f-b360-dbba457f080f",
   "metadata": {},
   "outputs": [
    {
     "name": "stdin",
     "output_type": "stream",
     "text": [
      "Enter your age 50\n"
     ]
    },
    {
     "name": "stdout",
     "output_type": "stream",
     "text": [
      "ok\n"
     ]
    }
   ],
   "source": [
    "age=int(input(\"Enter your age\"))\n",
    "        \n",
    "if age>=18 and age<=45:\n",
    "        print(\" You are a young blood\")\n",
    "else:\n",
    "    print(\"ok\")\n",
    "        \n"
   ]
  },
  {
   "cell_type": "code",
   "execution_count": 25,
   "id": "cf630ed8-7e97-4734-b047-1a26987e9618",
   "metadata": {},
   "outputs": [
    {
     "name": "stdin",
     "output_type": "stream",
     "text": [
      "Enter price 100\n"
     ]
    },
    {
     "name": "stdout",
     "output_type": "stream",
     "text": [
      "Price of product will be:70.0\n"
     ]
    }
   ],
   "source": [
    "product_price=int(input(\"Enter price\"))\n",
    "if product_price<=1000:\n",
    "    print(\"Price of product will be:{}\".format(product_price*.7))\n",
    "          "
   ]
  },
  {
   "cell_type": "code",
   "execution_count": 28,
   "id": "911553a5-f2f4-40c9-8c2d-c1699c0d5e39",
   "metadata": {},
   "outputs": [
    {
     "name": "stdin",
     "output_type": "stream",
     "text": [
      " Enter the product_price: 1200\n"
     ]
    },
    {
     "name": "stdout",
     "output_type": "stream",
     "text": [
      " Price of product will be 1008.0 : \n"
     ]
    }
   ],
   "source": [
    "product_price=int(input(\" Enter the product_price:\"))\n",
    "if product_price>=1000:\n",
    "    print(\" Price of product will be {} : \".format (product_price*.84))"
   ]
  },
  {
   "cell_type": "code",
   "execution_count": null,
   "id": "c2cdbb4a-8373-4213-ae2f-6b9a0bebbc8e",
   "metadata": {},
   "outputs": [],
   "source": [
    "# next question \n"
   ]
  },
  {
   "cell_type": "code",
   "execution_count": 47,
   "id": "f3a6550b-c53d-4897-98c8-41646997529d",
   "metadata": {},
   "outputs": [
    {
     "name": "stdin",
     "output_type": "stream",
     "text": [
      "Enter the price 600000\n"
     ]
    },
    {
     "name": "stdout",
     "output_type": "stream",
     "text": [
      "No discount go out side base price:600000\n"
     ]
    }
   ],
   "source": [
    "price=int(input(\"Enter the price\"))\n",
    "if price>=2500 and price<3000:\n",
    "    print(\"price after 20% discount  {} \".format(price*.8))\n",
    "else:          \n",
    "\n",
    "    print(\"No discount go out side base price:{}\".format(price))\n",
    "        \n",
    "    "
   ]
  },
  {
   "cell_type": "code",
   "execution_count": null,
   "id": "79740b08-70e8-47ae-ace1-ec406317da00",
   "metadata": {},
   "outputs": [],
   "source": [
    "### if ,elif elif elif elif elif elif elif elif # nested\n"
   ]
  },
  {
   "cell_type": "code",
   "execution_count": 48,
   "id": "9e154c1b-ba4a-40c8-adf3-dff1614ca10a",
   "metadata": {},
   "outputs": [
    {
     "name": "stdin",
     "output_type": "stream",
     "text": [
      "Enter the age :  200\n"
     ]
    },
    {
     "name": "stdout",
     "output_type": "stream",
     "text": [
      "You are eligible for voting\n",
      "ok bye\n"
     ]
    }
   ],
   "source": [
    "age = int(input(\"Enter the age : \"))\n",
    "if age>=24:\n",
    "    print(\"You are eligible for voting\")\n",
    "elif age < 10 and age == 10:\n",
    "        print(\" you are not eligible\")\n",
    "if age ==199:\n",
    "    print(\"YOU are no more\") \n",
    "else:\n",
    "    print(\"ok bye\")"
   ]
  },
  {
   "cell_type": "code",
   "execution_count": null,
   "id": "3d4028e6-645c-40d8-845f-55223db091d6",
   "metadata": {},
   "outputs": [],
   "source": [
    "age = int(input(\"Enter the age : \"))\n",
    "if age>=24:\n",
    "    print(\"You are eligible for voting\")\n",
    "elif age <= 10 and age == 10:\n",
    "        print(\" you are not eligible\")\n",
    "if age ==199:\n",
    "    print(\"YOU are no more\") \n",
    "else:\n",
    "    print(\"ok bye\")"
   ]
  },
  {
   "cell_type": "code",
   "execution_count": null,
   "id": "145fd09f-e805-49a0-a0b6-7ef6855de1ea",
   "metadata": {},
   "outputs": [],
   "source": []
  },
  {
   "cell_type": "code",
   "execution_count": null,
   "id": "23b1070c-1bd3-4a4f-bb63-e557612f6c26",
   "metadata": {},
   "outputs": [],
   "source": []
  },
  {
   "cell_type": "code",
   "execution_count": null,
   "id": "6cc28aea-e2a4-4e30-93ce-39c71bd42210",
   "metadata": {},
   "outputs": [],
   "source": []
  },
  {
   "cell_type": "code",
   "execution_count": null,
   "id": "80b5c37f-3c6c-4d96-ac6b-6509b208a513",
   "metadata": {},
   "outputs": [],
   "source": []
  }
 ],
 "metadata": {
  "kernelspec": {
   "display_name": "Python 3 (ipykernel)",
   "language": "python",
   "name": "python3"
  },
  "language_info": {
   "codemirror_mode": {
    "name": "ipython",
    "version": 3
   },
   "file_extension": ".py",
   "mimetype": "text/x-python",
   "name": "python",
   "nbconvert_exporter": "python",
   "pygments_lexer": "ipython3",
   "version": "3.10.8"
  }
 },
 "nbformat": 4,
 "nbformat_minor": 5
}
